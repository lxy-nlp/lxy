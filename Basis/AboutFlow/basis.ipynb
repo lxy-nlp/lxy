{
 "cells": [
  {
   "cell_type": "code",
   "execution_count": 24,
   "metadata": {
    "collapsed": true,
    "pycharm": {
     "is_executing": false
    }
   },
   "outputs": [
    {
     "data": {
      "text/plain": "['/home/lxy/anaconda3/envs/tf/lib/python3.6/site-packages/tensorflow']"
     },
     "metadata": {},
     "output_type": "execute_result",
     "execution_count": 24
    }
   ],
   "source": [
    "import tensorflow as tf\n",
    "'''\n",
    "tensorflow中的基本数据类型是张量（标量（0） 向量（1） 矩阵（2），各种维度的向量（d>2））\n",
    "张量最重要的三个属性是形状 类型 和 值\n",
    "tensorflow的数据类型\n",
    "tf.int32\n",
    "tf.int64\n",
    "tf.float32\n",
    "tf.float64\n",
    "bool\n",
    "string\n",
    "'''\n",
    "tf.__version__ # 查看tensorflow版本\n",
    "tf.__path__ # 查看tensorflow路径"
   ]
  },
  {
   "cell_type": "code",
   "execution_count": 17,
   "outputs": [],
   "source": [
    "# 创建张量\n",
    "exp = tf.random.uniform(shape=(2,2),dtype=tf.float64)\n",
    "exp1 = tf.fill([2,2],9)"
   ],
   "metadata": {
    "collapsed": false,
    "pycharm": {
     "name": "#%%\n",
     "is_executing": false
    }
   }
  },
  {
   "cell_type": "code",
   "execution_count": 16,
   "outputs": [
    {
     "data": {
      "text/plain": "array([[0.45947365, 0.48582582],\n       [0.75320882, 0.65855576]])"
     },
     "metadata": {},
     "output_type": "execute_result",
     "execution_count": 16
    }
   ],
   "source": [
    "exp.shape\n",
    "exp.dtype\n",
    "exp.numpy()\n",
    "exp"
   ],
   "metadata": {
    "collapsed": false,
    "pycharm": {
     "name": "#%%\n",
     "is_executing": false
    }
   }
  },
  {
   "cell_type": "code",
   "execution_count": 19,
   "outputs": [],
   "source": [
    "# tensor和numpy数据类型的转换\n",
    "exp_numpy = exp.numpy()\n",
    "exp_tensor = tf.convert_to_tensor(exp_numpy)"
   ],
   "metadata": {
    "collapsed": false,
    "pycharm": {
     "name": "#%%\n",
     "is_executing": false
    }
   }
  },
  {
   "cell_type": "code",
   "execution_count": 22,
   "outputs": [
    {
     "data": {
      "text/plain": "<tf.Tensor: id=38, shape=(2, 2), dtype=int32, numpy=\narray([[9, 9],\n       [9, 9]], dtype=int32)>"
     },
     "metadata": {},
     "output_type": "execute_result",
     "execution_count": 22
    }
   ],
   "source": [
    "# 取值操作\n",
    "i = tf.range(10)\n",
    "i = tf.random.shuffle(i)"
   ],
   "metadata": {
    "collapsed": false,
    "pycharm": {
     "name": "#%%\n",
     "is_executing": false
    }
   }
  },
  {
   "cell_type": "code",
   "execution_count": 26,
   "outputs": [
    {
     "name": "stdout",
     "text": [
      "0.535206765532493 0.30109002557396913\n"
     ],
     "output_type": "stream"
    }
   ],
   "source": [
    "# 梯度下降初探 -- numpy \n",
    "import numpy as np\n",
    "X_raw = np.array([2013,2014,2015,2016,2017],dtype=np.float32)\n",
    "y_raw = np.array([12000,14000,15000,16500,17500],dtype=np.float32)\n",
    "X = (X_raw -X_raw.min()) / (X_raw.max() - X_raw.min())\n",
    "y = (y_raw - y_raw.min()) / (y_raw.max() - y_raw.min())\n",
    "\n",
    "a,b = 0,0\n",
    "num_epoch =1000\n",
    "learning_rate = 5e-4\n",
    "# 梯度下降 求使得误差最小时的w和b这两个参数\n",
    "# 目标函数是 (y_pred - y)**2 分别对 a 和 b求导\n",
    "for e in range(num_epoch):\n",
    "    y_pred = a*X+b\n",
    "    grad_a,grad_b = 2 * (y_pred - y).dot(X), 2*(y_pred-y).sum()\n",
    "    a,b = a - learning_rate * grad_a, b - learning_rate * grad_b\n",
    "print(a,b)"
   ],
   "metadata": {
    "collapsed": false,
    "pycharm": {
     "name": "#%%\n",
     "is_executing": false
    }
   }
  },
  {
   "cell_type": "code",
   "execution_count": 28,
   "outputs": [
    {
     "name": "stdout",
     "text": [
      "<tf.Variable 'Variable:0' shape=() dtype=float32, numpy=0.98176914> <tf.Variable 'Variable:0' shape=() dtype=float32, numpy=0.054570343>\n"
     ],
     "output_type": "stream"
    }
   ],
   "source": [
    "# 梯度下降初探-- Tensorflow\n",
    "X = tf.constant(X)\n",
    "y = tf.constant(y)\n",
    "a = tf.Variable(initial_value=0.)\n",
    "b = tf.Variable(initial_value=0.)\n",
    "variables = [a,b]\n",
    "num_epoch = 100000\n",
    "optimizer = tf.keras.optimizers.SGD(learning_rate=5e-4)\n",
    "for e in range(num_epoch):\n",
    "    with tf.GradientTape() as tape:\n",
    "        y_pred = a * X + b\n",
    "        loss = tf.reduce_sum(tf.square(y_pred-y))\n",
    "    grads = tape.gradient(loss,variables)\n",
    "    optimizer.apply_gradients(grads_and_vars=zip(grads,variables))\n",
    "\n",
    "print(a,b)"
   ],
   "metadata": {
    "collapsed": false,
    "pycharm": {
     "name": "#%%\n",
     "is_executing": false
    }
   }
  },
  {
   "cell_type": "code",
   "execution_count": null,
   "outputs": [],
   "source": [
    "'''\n",
    "在 tensorflow 中 推荐使用tf.keras 构建模型 \n",
    "其中最重要的两个概念是 模型 Model 和 层 Layer\n",
    "'''\n",
    "# 模型初探\n",
    "import tensorflow.keras.Model as Model\n",
    "\n",
    "class MyModel(Model):\n",
    "    def __init__(self):\n",
    "        super().__init__()\n",
    "    \n",
    "    def call(self,input):\n",
    "        output = 0\n",
    "        return output"
   ],
   "metadata": {
    "collapsed": false,
    "pycharm": {
     "name": "#%%\n"
    }
   }
  },
  {
   "cell_type": "code",
   "execution_count": null,
   "outputs": [],
   "source": [
    "'''\n",
    "tf.keras.layers.Dense(\n",
    "    inputs=64,  # 输入该网络层的数据\n",
    "    units=10,  # 输出的维度大小\n",
    "    activation=None,  # 选择使用的（激活函数）\n",
    "    use_bias=True,  # 是否使用（偏置项）\n",
    "    kernel_initializer=None,  # 卷积核的初始化器\n",
    "    bias_initializer=tf.zeros_initializer(),  # 偏置项的初始化器\n",
    "    kernel_regularizer=None,  # 卷积核的正则化\n",
    "    activaty_regularizer=None,  # 偏置项的正则化\n",
    "    kernel_constraint=None,  # 对主权重矩阵进行约束\n",
    "    bias_constraint=None,  # 对偏置向量进行约束\n",
    "    trainable=True,  # 可以设置为不可训练，（冻结）网络层\n",
    "    name=None,  # 层的名字\n",
    "    reuse=None  # 是否重复使用参数\n",
    ")\n",
    "\n",
    "激活函数是 tf.nn.\n",
    "'''\n",
    "class Linear(Model):\n",
    "    def __init__(self):\n",
    "        super().__init__()\n",
    "        self.dense = tf.keras.layers.Dense(\n",
    "            units=1,\n",
    "            activation=None, # 激活函数\n",
    "            use_bias=True,\n",
    "            kernel_initializer=tf.zeros_initializer(),\n",
    "            bias_initializer=tf.zeros_initializer()    \n",
    "        )\n",
    "        \n",
    "    def call(self,input):\n",
    "        output = self.dense(input)\n",
    "        return output\n",
    "\n",
    "X = tf.constant([[1.0, 2.0, 3.0], [4.0, 5.0, 6.0]])\n",
    "y = tf.constant([[10.0], [20.0]])\n",
    "model = Linear()\n",
    "optimizer = tf.keras.optimizers.SGD(learning_rate=1e-2) # 优化器\n",
    "\n",
    "\n",
    "for i in range(100):\n",
    "    with tf.GradientTape() as tape:\n",
    "        y_pred = model(X)\n",
    "        loss = tf.reduce_mean(tf.square(y_pred-y))\n",
    "    grads = tape.gradient(loss,model.variables)\n",
    "    optimizer.apply_gradients(grads_and_vars=zip(grads,model.variables))\n",
    "print(model.variables)\n",
    "      "
   ],
   "metadata": {
    "collapsed": false,
    "pycharm": {
     "name": "#%%\n"
    }
   }
  },
  {
   "cell_type": "code",
   "execution_count": null,
   "outputs": [],
   "source": [
    "class MLP(tf.keras.Model):\n",
    "    def __init__(self):\n",
    "        super().__init__()\n",
    "        self.flatten = tf.keras.layers.Flatten()    # Flatten层将除第一维（batch_size）以外的维度展平\n",
    "        self.dense1 = tf.keras.layers.Dense(units=100, activation=tf.nn.relu)\n",
    "        self.dense2 = tf.keras.layers.Dense(units=10)\n",
    "\n",
    "    def call(self, inputs):         # [batch_size, 28, 28, 1]\n",
    "        x = self.flatten(inputs)    # [batch_size, 784]\n",
    "        x = self.dense1(x)          # [batch_size, 100]\n",
    "        x = self.dense2(x)          # [batch_size, 10]\n",
    "        output = tf.nn.softmax(x)\n",
    "        return output\n",
    "        \n",
    "lambda"
   ],
   "metadata": {
    "collapsed": false,
    "pycharm": {
     "name": "#%%\n"
    }
   }
  }
 ],
 "metadata": {
  "language_info": {
   "codemirror_mode": {
    "name": "ipython",
    "version": 2
   },
   "file_extension": ".py",
   "mimetype": "text/x-python",
   "name": "python",
   "nbconvert_exporter": "python",
   "pygments_lexer": "ipython2",
   "version": "2.7.6"
  },
  "kernelspec": {
   "name": "tf",
   "language": "python",
   "display_name": "tf"
  },
  "pycharm": {
   "stem_cell": {
    "cell_type": "raw",
    "source": [],
    "metadata": {
     "collapsed": false
    }
   }
  }
 },
 "nbformat": 4,
 "nbformat_minor": 0
}