{
 "cells": [
  {
   "cell_type": "code",
   "execution_count": null,
   "outputs": [],
   "source": [
    "# 变量类型\n",
    "'''\n",
    "Numbers（数字） int(整型) long()  float complex(复数)\n",
    "String（字符串） ''\n",
    "List（列表）    []\n",
    "Tuple（元组） () 元组一旦创建不可以改变 有序集合\n",
    "Dictionary（字典）{}\n",
    "\n",
    "'''\n",
    "var = 11\n",
    "# 检测数据类型\n",
    "type(var)\n",
    "\n",
    "# 查看数据地址\n",
    "id(var)\n",
    "\n",
    "# 数据类型转换\n",
    "str(var)\n",
    "float(var)\n",
    "# eval 的作用 得到原本由字符串包裹的对象  如“2+3” “[1,2,3]”\n",
    "eval(\"[12,34,56]\")"
   ],
   "metadata": {
    "collapsed": false,
    "pycharm": {
     "name": "#%%\n"
    }
   }
  },
  {
   "cell_type": "code",
   "execution_count": null,
   "outputs": [],
   "source": [
    "# 变量创建\n",
    "var1 = 1\n",
    "global var2 # 声明全局变量\n",
    "# 删除对变量的引用\n",
    "del var1 # 也可以批量删除 del var1,var2,var3\n",
    "\n",
    "# 连接、重复、切片操作 针对字符串 列表 元组\n",
    "[[1]*5] # 数组的复制 实质是对引用的复制，改变其中一个都会全部改变\n",
    "[1,2,3]+[3,4,5]\n",
    "list1 = [i for i in range(5)]\n",
    "list1[1:4] # [1,4) [start,end)\n",
    "# list 二维列表不能以列切片\n"
   ],
   "metadata": {
    "collapsed": false,
    "pycharm": {
     "name": "#%%\n"
    }
   }
  },
  {
   "cell_type": "code",
   "execution_count": null,
   "metadata": {
    "collapsed": true
   },
   "outputs": [],
   "source": [
    "# 类和继承\n",
    "# 创建类\n",
    "class Dog():\n",
    "    def __init__(self,name,age):\n",
    "        self.name = name\n",
    "        self.age = age\n",
    "    def sit(self):\n",
    "        print(self.name.title() + \"is now sitting\")\n",
    "    def roll_over(self):\n",
    "        print(self.name.title()+\"rolled over\")\n",
    "\n",
    "# 初始化类\n",
    "my_dog = Dog('lucy',6)\n",
    "my_dog.roll_over() # 调用实例对象中的方法\n",
    "my_dog.sit()\n",
    "\n",
    "'''\n",
    "继承：多继承\n",
    "class generator(base1,base2):\n",
    "\n",
    "私有属性和私有函数\n",
    "self.__private_attrs   双下划线\n",
    "self.__private_methods\n",
    "\n",
    "\n",
    "'''\n",
    "\n"
   ]
  },
  {
   "cell_type": "code",
   "execution_count": null,
   "outputs": [],
   "source": [
    "# 通过方法修改属性值\n",
    "class Car():\n",
    "    def __init__(self,make,model,year):\n",
    "        self.make = make\n",
    "        self.model = model\n",
    "        self.year = year\n",
    "        self.odometer_reading = 0\n",
    "    def get_description(self):\n",
    "        long_name = str(self.year)+' '+self.make +' '+self.model\n",
    "        return long_name.tile()\n",
    "    def update_odometer(self,mileage):\n",
    "        if mileage >= self.odometer_reading:\n",
    "            self.odometer_reading = mileage\n",
    "        else:\n",
    "            print('you can not roll back an odometer!')\n",
    "        self.odometer_reading = mileage\n",
    "    def read_odometer(self):\n",
    "        print('This car has '+str(self.odometer_reading)+\" miles on it.\")\n",
    "my_new_car = Car('audi','a8',2016)\n"
   ],
   "metadata": {
    "collapsed": false,
    "pycharm": {
     "name": "#%%\n"
    }
   }
  },
  {
   "cell_type": "code",
   "execution_count": null,
   "outputs": [],
   "source": [
    "# 获得属性值\n",
    "getattr(my_dog,'name')\n",
    "\n",
    "\n"
   ],
   "metadata": {
    "collapsed": false,
    "pycharm": {
     "name": "#%%\n"
    }
   }
  },
  {
   "cell_type": "code",
   "execution_count": null,
   "outputs": [],
   "source": [
    "# 将实例用作属性\n",
    "class Wheel():\n",
    "    def __init__(self,size): # 可以看成是java中的构造方法,但是不需要声明变量\n",
    "        self.size = size\n",
    "    def describe_wheel(self):\n",
    "        print(\"ebike's wheel size is \"+str(self.size))\n",
    "\n",
    "\n",
    "# 继承\n",
    "class ElectricCar(Car):\n",
    "    def __init__(self,make,model,year,battery):\n",
    "        super().__init__(make,model,year) # 继承父类中的属性\n",
    "        self.battery=battery # 子类中自己的属性\n",
    "        self.wheel = Wheel(70)\n",
    "    def describe_battery(self):\n",
    "        print('This ebike has a '+ str(self.battery)+'-kwh')\n",
    "\n",
    "\n",
    "my_ebike = ElectricCar('xiao','s6',2018,80)\n",
    "my_ebike.describe_battery()\n",
    "my_ebike.wheel.describe_wheel()\n"
   ],
   "metadata": {
    "collapsed": false,
    "pycharm": {
     "name": "#%%\n"
    }
   }
  },
  {
   "cell_type": "code",
   "execution_count": null,
   "outputs": [],
   "source": [
    "# IO流\n",
    "'''\n",
    "1. print 输出\n",
    "2. raw_input 输入\n",
    "3. input  输入\n",
    "'''\n",
    "string1 = input(\"请输入： \")\n",
    "\n",
    "# 文件读写\n",
    "\n",
    "'''\n",
    "文件打开模式\n",
    "t\t文本模式 (默认)。\n",
    "x\t写模式，新建一个文件，如果该文件已存在则会报错。\n",
    "b\t二进制模式。\n",
    "+\t打开一个文件进行更新(可读可写)。\n",
    "U\t通用换行模式（不推荐）。\n",
    "r\t以只读方式打开文件。文件的指针将会放在文件的开头。这是默认模式。\n",
    "rb\t以二进制格式打开一个文件用于只读。文件指针将会放在文件的开头。这是默认模式。一般用于非文本文件如图片等。\n",
    "r+\t打开一个文件用于读写。文件指针将会放在文件的开头。\n",
    "rb+\t以二进制格式打开一个文件用于读写。文件指针将会放在文件的开头。一般用于非文本文件如图片等。\n",
    "w\t打开一个文件只用于写入。如果该文件已存在则打开文件，并从开头开始编辑，即原有内容会被删除。如果该文件不存在，创建新文件。\n",
    "wb\t以二进制格式打开一个文件只用于写入。如果该文件已存在则打开文件，并从开头开始编辑，即原有内容会被删除。如果该文件不存在，创建新文件。一般用于非文本文件如图片等。\n",
    "w+\t打开一个文件用于读写。如果该文件已存在则打开文件，并从开头开始编辑，即原有内容会被删除。如果该文件不存在，创建新文件。\n",
    "wb+\t以二进制格式打开一个文件用于读写。如果该文件已存在则打开文件，并从开头开始编辑，即原有内容会被删除。如果该文件不存在，创建新文件。一般用于非文本文件如图片等。\n",
    "a\t打开一个文件用于追加。如果该文件已存在，文件指针将会放在文件的结尾。也就是说，新的内容将会被写入到已有内容之后。如果该文件不存在，创建新文件进行写入。\n",
    "ab\t以二进制格式打开一个文件用于追加。如果该文件已存在，文件指针将会放在文件的结尾。也就是说，新的内容将会被写入到已有内容之后。如果该文件不存在，创建新文件进行写入。\n",
    "a+\t打开一个文件用于读写。如果该文件已存在，文件指针将会放在文件的结尾。文件打开时会是追加模式。如果该文件不存在，创建新文件用于读写。\n",
    "ab+\t以二进制格式打开一个文件用于追加。如果该文件已存在，文件指针将会放在文件的结尾。如果该文件不存在，创建新文件用于读写。\n",
    "'''\n",
    "with open('knowledgeOfpytorch.ipynb') as f:\n",
    "    con = f.read()\n",
    "\n",
    "# 文件路径\n",
    "# ./当前文件夹 ../上级目录\n",
    " \n"
   ],
   "metadata": {
    "collapsed": false,
    "pycharm": {
     "name": "#%%\n"
    }
   }
  },
  {
   "cell_type": "code",
   "execution_count": null,
   "outputs": [],
   "source": [
    "# 正则表达式\n",
    "'''\n",
    "^\t匹配字符串的开头\n",
    "$\t匹配字符串的末尾。\n",
    ".\t匹配任意字符，除了换行符，当re.DOTALL标记被指定时，则可以匹配包括换行符的任意字符。\n",
    "[...]\t用来表示一组字符,单独列出：[amk] 匹配 'a'，'m'或'k'\n",
    "[^...]\t不在[]中的字符：[^abc] 匹配除了a,b,c之外的字符。\n",
    "re*\t匹配0个或多个的表达式。\n",
    "re+\t匹配1个或多个的表达式。\n",
    "re?\t匹配0个或1个由前面的正则表达式定义的片段，非贪婪方式\n",
    "re{ n}\t精确匹配 n 个前面表达式。例如， o{2} 不能匹配 \"Bob\" 中的 \"o\"，但是能匹配 \"food\" 中的两个 o。\n",
    "re{ n,}\t匹配 n 个前面表达式。例如， o{2,} 不能匹配\"Bob\"中的\"o\"，但能匹配 \"foooood\"中的所有 o。\"o{1,}\" 等价于 \"o+\"。\"o{0,}\" 则等价于 \"o*\"。\n",
    "re{ n, m}\t匹配 n 到 m 次由前面的正则表达式定义的片段，贪婪方式\n",
    "a| b\t匹配a或b\n",
    "(re)\t对正则表达式分组并记住匹配的文本\n",
    "(?imx)\t正则表达式包含三种可选标志：i, m, 或 x 。只影响括号中的区域。\n",
    "(?-imx)\t正则表达式关闭 i, m, 或 x 可选标志。只影响括号中的区域。\n",
    "(?: re)\t类似 (...), 但是不表示一个组\n",
    "(?imx: re)\t在括号中使用i, m, 或 x 可选标志\n",
    "(?-imx: re)\t在括号中不使用i, m, 或 x 可选标志\n",
    "(?#...)\t注释.\n",
    "(?= re)\t前向肯定界定符。如果所含正则表达式，以 ... 表示，在当前位置成功匹配时成功，否则失败。但一旦所含表达式已经尝试，匹配引擎根本没有提高；模式的剩余部分还要尝试界定符的右边。\n",
    "(?! re)\t前向否定界定符。与肯定界定符相反；当所含表达式不能在字符串当前位置匹配时成功\n",
    "(?> re)\t匹配的独立模式，省去回溯。\n",
    "\\w\t匹配字母数字及下划线\n",
    "\\W\t匹配非字母数字及下划线\n",
    "\\s\t匹配任意空白字符，等价于 [ \\t\\n\\r\\f]。\n",
    "\\S\t匹配任意非空字符\n",
    "\\d\t匹配任意数字，等价于 [0-9].\n",
    "\\D\t匹配任意非数字\n",
    "\\A\t匹配字符串开始\n",
    "\\Z\t匹配字符串结束，如果是存在换行，只匹配到换行前的结束字符串。\n",
    "\\z\t匹配字符串结束\n",
    "\\G\t匹配最后匹配完成的位置。\n",
    "\\b\t匹配一个单词边界，也就是指单词和空格间的位置。例如， 'er\\b' 可以匹配\"never\" 中的 'er'，但不能匹配 \"verb\" 中的 'er'。\n",
    "\\B\t匹配非单词边界。'er\\B' 能匹配 \"verb\" 中的 'er'，但不能匹配 \"never\" 中的 'er'。\n",
    "\\n, \\t, 等.\t匹配一个换行符。匹配一个制表符。等\n",
    "\\1...\\9\t匹配第n个分组的内容。\n",
    "\\10\t匹配第n个分组的内容，如果它经匹配。否则指的是八进制字符码的表达式。\n",
    "'''\n",
    "\n",
    "'''\n",
    "re.match(pattern, string, flags=0)\n",
    "pattern\t匹配的正则表达式\n",
    "string\t要匹配的字符串。\n",
    "flags\t标志位，用于控制正则表达式的匹配方式，如：是否区分大小写，多行匹配等等\n",
    "    re.I\t使匹配对大小写不敏感\n",
    "    re.L\t做本地化识别（locale-aware）匹配\n",
    "    re.M\t多行匹配，影响 ^ 和 $\n",
    "    re.S\t使 . 匹配包括换行在内的所有字符\n",
    "    re.U\t根据Unicode字符集解析字符。这个标志影响 \\w, \\W, \\b, \\B.\n",
    "    re.X\t该标志通过给予你更灵活的格式以便你将正则表达式写得更易于理解\n",
    "\n",
    "re.search(pattern, string, flags=0)   re.search 扫描整个字符串并返回第一个成功的匹配。\n",
    "group()和groups()的用法\n",
    "groups()查看所有分组\n",
    "group()返回所有匹配上的数据 数据形式是元组\n",
    "也可以使用group(index) 查看其它组的匹配\n",
    "如下面的式子所示 re.search()中有4个分组规则\n",
    "\n",
    "'''\n",
    "import re\n",
    "# 匹配\n",
    "re.match('www','www.lll.com') # 从开始位置匹配 匹配成功返回\n",
    "a = \"123abc?456\"\n",
    "m = re.search('([0-9]*)([a-z]*)(.)([0-9]*)',a)\n",
    "\n",
    "# 对于一些特殊字符的需要用转义字符 \\! \\?\n",
    "# 检索并替换\n",
    "re.sub(r'\\?',\"!\",a) # (old,new,string)\n",
    "\n",
    "# 编译正则表达式\n",
    "pattern = re.compile(r'\\d+')\n",
    "pattern.search(a)\n",
    "\n",
    "pattern.findall(a) # 返回所有匹配的结果 findall(string,start,end) 返回的数据格式是list\n",
    "\n",
    "pattern.finditer(pattern,a,re.I) # 返回所有匹配的结果 数据格式为迭代器\n",
    " \n",
    "# 分割\n",
    "# re.split(pattern,string,maxsplit,flag) \n",
    "# pattern\t匹配的正则表达式\n",
    "# string\t要匹配的字符串。\n",
    "# maxsplit\t分隔次数，maxsplit=1 分隔一次，默认为 0，不限制次数。\n",
    "# flags\t标志位，用于控制正则表达式的匹配方式，如：是否区分大小写，多行匹配等等。参见：正则表达式修饰符 - 可选标志\n",
    "re.split('\\W+','runoob,runoob,runoob')\n",
    "# 匹配出的内容可以直接转换为字典\n",
    "s = '1102231990xxxxxxxx'\n",
    "res = re.search('(?P<province>\\d{3})(?P<city>\\d{3})(?P<born_year>\\d{4})',s)\n",
    "print(res.groupdict())\n"
   ],
   "metadata": {
    "collapsed": false,
    "pycharm": {
     "name": "#%%\n"
    }
   }
  },
  {
   "cell_type": "code",
   "execution_count": 3,
   "outputs": [
    {
     "name": "stdout",
     "text": [
      "I am doing some work before a_func()\nI am doing some work after a_func()\ni am the function need decoration\n"
     ],
     "output_type": "stream"
    },
    {
     "data": {
      "text/plain": "<function __main__.another_func()>"
     },
     "metadata": {},
     "output_type": "execute_result",
     "execution_count": 3
    }
   ],
   "source": [
    "# 装饰器\n",
    "# 装饰器的作用： 为已经存在的函数或者对象添加功能\n",
    "# @dec 作用类似于 func = dec(fun)\n",
    "\n",
    "def a_new_decorator(fun):\n",
    "    def wrapTheFunction():\n",
    "        print(\"I am doing some work before a_func()\")\n",
    "        print(\"I am doing some work after a_func()\")\n",
    "        fun()\n",
    "        return fun\n",
    "    return wrapTheFunction\n",
    "\n",
    "def a_func():\n",
    "    print(\"i am the function need decoration\")\n",
    "\n",
    "# a_func = a_new_decorator(a_func())\n",
    "\n",
    "# another相当于已有的函数，a_new_decorator相当于新增的功能\n",
    "@a_new_decorator\n",
    "def another_func():\n",
    "    print(\"i am the function need decoration\")\n",
    "\n",
    "another_func()\n",
    "\n"
   ],
   "metadata": {
    "collapsed": false,
    "pycharm": {
     "name": "#%%\n",
     "is_executing": false
    }
   }
  },
  {
   "cell_type": "code",
   "execution_count": null,
   "outputs": [],
   "source": [
    "'''\n",
    "列表删除问题\n",
    "在列表中循环删除数据时 会有索引改变的问题\n",
    "原本列表的长度是10 删除1个后还剩 9  个，再删除时，被删除的元素就不是原来的位置了\n",
    "'''"
   ],
   "metadata": {
    "collapsed": false,
    "pycharm": {
     "name": "#%%\n"
    }
   }
  },
  {
   "cell_type": "code",
   "execution_count": null,
   "outputs": [],
   "source": [
    "# 文件 / 目录方法\n",
    "import os \n",
    "os.chdir(\"../\") # 改变当前路径\n",
    "os.getcwd() # 获取当前路径\n",
    "os.listdir(\"../lxy\") # 获取文件夹下所有的文件名称\n",
    "os.mkdir(\"osson\") # 新建文件夹\n",
    "os.rmdir(\"osson\") # 删除空的文件夹\n",
    "os.rename(\"ostest\",\"ostests\")   # 文件夹重命名\n",
    "\n"
   ],
   "metadata": {
    "collapsed": false,
    "pycharm": {
     "name": "#%%\n"
    }
   }
  }
 ],
 "metadata": {
  "language_info": {
   "codemirror_mode": {
    "name": "ipython",
    "version": 2
   },
   "file_extension": ".py",
   "mimetype": "text/x-python",
   "name": "python",
   "nbconvert_exporter": "python",
   "pygments_lexer": "ipython2",
   "version": "2.7.6"
  },
  "kernelspec": {
   "name": "python3",
   "language": "python",
   "display_name": "Python 3"
  },
  "pycharm": {
   "stem_cell": {
    "cell_type": "raw",
    "source": [],
    "metadata": {
     "collapsed": false
    }
   }
  }
 },
 "nbformat": 4,
 "nbformat_minor": 0
}