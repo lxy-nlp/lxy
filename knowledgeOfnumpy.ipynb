{
 "cells": [
  {
   "cell_type": "code",
   "execution_count": 2,
   "metadata": {
    "pycharm": {
     "is_executing": false
    }
   },
   "outputs": [],
   "source": [
    "import numpy as np\n",
    "# 在python中使用"
   ]
  },
  {
   "cell_type": "code",
   "execution_count": 3,
   "metadata": {
    "pycharm": {
     "is_executing": false,
     "name": "#%%\n"
    }
   },
   "outputs": [],
   "source": [
    "data1=[1,2,3,4,5]\n",
    "arr = np.array(data1) # list转array\n",
    "data2 = [range(1,5),range(5,9)] # 二维list\n",
    "arr2=np.array(data2)\n",
    "tmp=arr2.tolist() # array 转 list"
   ]
  },
  {
   "cell_type": "code",
   "execution_count": 6,
   "metadata": {
    "pycharm": {
     "is_executing": false,
     "name": "#%%\n"
    }
   },
   "outputs": [],
   "source": [
    "tmp = np.zeros(10)\n",
    "np.zeros((3,6))\n",
    "np.ones(10)\n",
    "x = np.logspace(0,3,4) #(start,end,num,base=10.0) 等比数列\n",
    "y = np.linspace(0,1,5)# (start,end,num) 等差数列\n",
    "np.random.rand(2,3) # 创建一个2*3的数组，取之范围在（0，1）\n",
    "np.random.randn(2,3) # 创建一个2*3的数组，取值范围 均值为0，方差为1"
   ]
  },
  {
   "cell_type": "code",
   "execution_count": 9,
   "metadata": {},
   "outputs": [],
   "source": [
    "int_array = np.arange(5) # arange like range\n",
    "float_array = int_array.astype(float) # 改变数据类型"
   ]
  },
  {
   "cell_type": "code",
   "execution_count": 13,
   "metadata": {
    "pycharm": {
     "is_executing": false,
     "name": "#%%\n"
    }
   },
   "outputs": [
    {
     "data": {
      "text/plain": [
       "(array([0., 1., 2., 3., 4.]), array([0, 1, 2, 3, 4]), dtype('int64'), (5,), 2)"
      ]
     },
     "execution_count": 13,
     "metadata": {},
     "output_type": "execute_result"
    }
   ],
   "source": [
    "float_array,int_array,int_array.dtype,arr.shape,len(arr2)"
   ]
  },
  {
   "cell_type": "code",
   "execution_count": 14,
   "metadata": {
    "pycharm": {
     "name": "#%%\n"
    }
   },
   "outputs": [],
   "source": [
    "# 改变array的形状\n",
    "tmp = arr2.reshape((4,2))"
   ]
  },
  {
   "cell_type": "code",
   "execution_count": 17,
   "metadata": {},
   "outputs": [
    {
     "data": {
      "text/plain": [
       "(array([[1, 2, 3, 4],\n",
       "        [5, 6, 7, 8]]), array([[1, 2, 3, 4],\n",
       "        [5, 6, 7, 8]]))"
      ]
     },
     "execution_count": 17,
     "metadata": {},
     "output_type": "execute_result"
    }
   ],
   "source": [
    "arr2,tmp"
   ]
  },
  {
   "cell_type": "code",
   "execution_count": 18,
   "metadata": {},
   "outputs": [],
   "source": [
    "arr_flt=arr2.flatten() # 将arr2展开成一维的"
   ]
  },
  {
   "cell_type": "code",
   "execution_count": 22,
   "metadata": {},
   "outputs": [],
   "source": [
    "a = np.array([0,1])\n",
    "b = np.array([2,3])\n",
    "ab = np.stack((a,b)).T # 数组转置"
   ]
  },
  {
   "cell_type": "code",
   "execution_count": 24,
   "metadata": {},
   "outputs": [
    {
     "data": {
      "text/plain": [
       "array([1, 2, 3, 4])"
      ]
     },
     "execution_count": 24,
     "metadata": {},
     "output_type": "execute_result"
    }
   ],
   "source": [
    "# 关于数组的切分\n",
    "\n",
    "arr2[0,:] # 取第一行的所有元素\n",
    "arr2[:,0] # 取第一列的所有元素\n",
    "arr2[0,3] # 取第一行第四列\n",
    "arr2[0,::2] # start:end:step"
   ]
  },
  {
   "cell_type": "code",
   "execution_count": 34,
   "metadata": {},
   "outputs": [
    {
     "data": {
      "text/plain": [
       "array([[[ 0,  1,  2],\n",
       "        [10, 11, 12],\n",
       "        [20, 21, 22],\n",
       "        [30, 31, 32]]])"
      ]
     },
     "execution_count": 34,
     "metadata": {},
     "output_type": "execute_result"
    }
   ],
   "source": [
    "# 广播机制\n",
    "a = np.array([[[0,0,0],\n",
    "            [10,10,10],\n",
    "            [20,20,20],\n",
    "            [30,30,30]]])\n",
    "b = np.array([0,1,2])\n",
    "a+b "
   ]
  },
  {
   "cell_type": "code",
   "execution_count": 40,
   "metadata": {},
   "outputs": [
    {
     "data": {
      "text/plain": [
       "array([0.        , 1.        , 1.41421356, 1.73205081, 2.        ])"
      ]
     },
     "execution_count": 40,
     "metadata": {},
     "output_type": "execute_result"
    }
   ],
   "source": [
    "# 数学上的操作\n",
    "nums = np.arange(5)\n",
    "nums*10\n",
    "nums = np.sqrt(nums)\n",
    "np.ceil(nums)# 大于等于这个数的最大整数\n",
    "np.floor(nums) # 向上取整\n",
    "nums.mean() # 取平均值\n",
    "nums.std()\n",
    "# 关于numpy的判断\n",
    "np.isnan()# 判断是否是nan\n",
    "np.isinf(1)#判断是否是无穷\n",
    "nums"
   ]
  },
  {
   "cell_type": "code",
   "execution_count": null,
   "outputs": [],
   "source": [
    "import numpy as np\n",
    "\n",
    "# 数组的生成和创建\n",
    "a = np.array([1, 2, 3])\n",
    "b = np.array([[1, 2, 3], [4, 5, 6]])  # [[],[]] 类似于java中二维数组的定义\n",
    "c = np.array([1, 2, 3, 4], ndmin=3)  # 指定生成数组的最小维度\n",
    "d = np.array([1, 2, 3, 4], dtype=complex)  # 生成数据格式为复数的数组\n",
    "print(d)\n",
    "a = np.arange(24)\n",
    "print(a.ndim)\n",
    "b = a.reshape(2, 4, 3)  # 对于三维数组，包含二维数组的数量，二维数组的形状\n",
    "print(b, b.ndim)\n",
    "a = np.array([[1, 2, 3], [4, 5, 6]])\n",
    "print(a.shape)\n",
    "x = [(1, 2, 3), (4, 5)]\n",
    "a = np.asarray(x)\n",
    "print(a)\n",
    "# start end step\n",
    "x = np.arange(10, 20, 2)\n",
    "print(x)\n",
    "\n",
    "# numpy.linspace 函数用于创建一个一维数组，数组是一个等差数列构成的，格式如下：\n",
    "# np.linspace(start, stop, num=50, endpoint=True, retstep=False, dtype=None) endpoint 终止值是否包含\n",
    "a = np.linspace(1, 10, 6)\n",
    "print(a)\n",
    "# numpy.logspace 函数用于创建一个于等比数列。格式如下：\n",
    "# np.logspace(start, stop, num=50, endpoint=True, base=10.0, dtype=None)\n",
    "b = np.logspace(1.0, 2.0, 10)  # start= base*start end=base*end\n",
    "print(b)\n",
    "c = np.logspace(0, 9, 10, base=2)\n",
    "print(c)\n",
    "\n",
    "# 从已有的数组中创建数组\n",
    "x = [1, 2, 3]\n",
    "# 从元祖列表转换\n",
    "x = [(4, 5, 6), (1, 2, 3)]\n",
    "a = np.asarray(x)\n",
    "print(a)\n",
    "\n",
    "# 切片和索引\n",
    "a = np.arange(10)## [0,10)\n",
    "s = slice(2, 7, 2)\n",
    "b = a[2:7:2]\n",
    "print(b)\n",
    "print(a[s])\n",
    "# 多维数组的切割和索引\n",
    "a = np.array([[1, 2, 3], [4, 5, 6], [7, 8, 9]])\n",
    "print(a[1:])\n",
    "\n",
    "# 高级索引\n",
    "# 整数数组索引\n",
    "\n",
    "# 以下实例获取数组中(0,0)，(1,1)和(2,0)位置处的元素。\n",
    "x = np.array([[1,  2],  [3,  4],  [5,  6]])\n",
    "y = x[[0, 1, 2],  [0, 1, 0]]\n",
    "print(y)\n",
    "\n",
    "# 布尔索引\n",
    "\n",
    "x = np.array([[0,  1,  2], [3,  4,  5], [6,  7,  8], [9, 10, 11]])\n",
    "print('我们的数组是：')\n",
    "print(x)\n",
    "print('\\n')\n",
    "# 现在我们会打印出大于 5 的元素\n",
    "print('大于 5 的元素是：')\n",
    "print(x[x > 5])\n",
    "a = np.array([np.nan,  1,2,np.nan,3,4,5])\n",
    "print (a[~np.isnan(a)])\n",
    "\n",
    "# 借助切片和...与索引数组组合\n",
    "a = np.array([[1, 2, 3], [4, 5, 6], [7, 8, 9]])\n",
    "b = a[1:3, 1:3]\n",
    "c = a[1:3, 1:2]\n",
    "d = a[..., 1:]  # ...可以理解占位符\n",
    "\n",
    "\n",
    "# 广播机制\n",
    "# 形状一致，普通相乘\n",
    "a = np.array([1, 2, 3, 4])\n",
    "b = np.array([10, 20, 30, 40])\n",
    "c = a*b\n",
    "print(c)\n",
    "# 形状不同，自动触发广播机制\n",
    "a = np.array([[0, 0, 0],\n",
    "              [10, 10, 10],\n",
    "              [20, 20, 20],\n",
    "              [30, 30, 30]])\n",
    "b = np.array([1, 2, 3])\n",
    "print(a+b)\n",
    "\n",
    "# 迭代数组\n",
    "a = np.arange(6).reshape(2, 3)\n",
    "print(a)\n",
    "print(\"迭代输出数组：\")\n",
    "for x in np.nditer(a): # iterator\n",
    "    print(x, end=\", \")\n",
    "print(\"\\n\")\n",
    "\n",
    "# 访问顺序\n",
    "for x in np.nditer(a.T):\n",
    "    print(x, end=\",\")\n",
    "print(\"\\n\")\n",
    "\n",
    "for x in np.nditer(a.T.copy(order=\"C\")):# C是按行，F是按列\n",
    "    print(x,end=\", \")\n",
    "print(\"\\n\")\n",
    "\n",
    "for x in np.nditer(a,order='F'):\n",
    "    print(x, end=\", \")\n",
    "print(\"\\n\")\n",
    "\n",
    "# 修改数组元素中的值\n",
    "a = np.arange(0, 60, 5)\n",
    "a = a.reshape(3, 4)\n",
    "print(\"原始数组 \")\n",
    "print(a)\n",
    "\n",
    "for x in np.nditer(a,op_flags=['readwrite']): # 默认是read-only\n",
    "    x[...] = 2*x\n",
    "print('修改后的数组是 ')\n",
    "print(a)\n",
    "# 使用外部循环\n",
    "a = np.arange(0, 60, 5)\n",
    "a = a.reshape(3, 4)\n",
    "print(\"原始数组 \")\n",
    "print(a)\n",
    "\n",
    "for x in np.nditer(a,flags= ['external_loop'], order ='F'):\n",
    "    print(x, end=', ')\n",
    "\n",
    "\n",
    "\n",
    "\n",
    "\n",
    "\n",
    "\n"
   ],
   "metadata": {
    "collapsed": false,
    "pycharm": {
     "name": "#%%\n"
    }
   }
  }
 ],
 "metadata": {
  "kernelspec": {
   "display_name": "Python 3",
   "language": "python",
   "name": "python3"
  },
  "language_info": {
   "codemirror_mode": {
    "name": "ipython",
    "version": 3
   },
   "file_extension": ".py",
   "mimetype": "text/x-python",
   "name": "python",
   "nbconvert_exporter": "python",
   "pygments_lexer": "ipython3",
   "version": "3.6.5"
  },
  "pycharm": {
   "stem_cell": {
    "cell_type": "raw",
    "source": [],
    "metadata": {
     "collapsed": false
    }
   }
  }
 },
 "nbformat": 4,
 "nbformat_minor": 1
}